{
 "cells": [
  {
   "cell_type": "code",
   "execution_count": 24,
   "metadata": {},
   "outputs": [],
   "source": [
    "import numpy as np\n",
    "import scipy.stats"
   ]
  },
  {
   "cell_type": "code",
   "execution_count": 25,
   "metadata": {},
   "outputs": [],
   "source": [
    "C = 8\n",
    "R = 2\n",
    "THRESHOLD = 0.05"
   ]
  },
  {
   "cell_type": "code",
   "execution_count": 26,
   "metadata": {},
   "outputs": [],
   "source": [
    "# Rows: women, men\n",
    "# Columns: PiS, PO, Kukiz, Nowoczesna, Lewica, PSL, Razem, KORWiN\n",
    "#data = np.array([ [39.7,26.4,7.5,7.1,6.6,5.0,4.2,2.8], \n",
    "#                  [38.5,20.3,10.6,7.1,6.6,5.4,3.5,7.1]])\n",
    "data = np.array([[ 17508, 11642,  3308,  3131,  2911,  2205,  1852, 1235],\n",
    " [ 17672,  9318,  4865,  3259,  3029,  2479,  1606, 3259]])"
   ]
  },
  {
   "cell_type": "code",
   "execution_count": 27,
   "metadata": {},
   "outputs": [],
   "source": [
    "def calc_denominator(i, j, N, ri, ci) :\n",
    "    return (ri[i] * ci[j]) / N;\n",
    "\n",
    "def calc_numerator(i, j, N, ri, ci) :\n",
    "    return ((calc_denominator(i, j, N, ri, ci) - data[i][j])**2)\n",
    "\n",
    "def calc_summand(i, j, N, ri, ci) :\n",
    "    return (calc_numerator(i, j, N, ri, ci) / calc_denominator(i, j, N, ri, ci))\n",
    "\n",
    "def f(col) :\n",
    "    ri = [sum(data[i][:col]) for i in range (R)]\n",
    "    overall_sum = sum(ri);\n",
    "    ci = [sum(data[i][j] for i in range (R)) for j in range (col)]\n",
    "    \n",
    "    S = sum(sum(calc_summand(i, j, overall_sum, ri, ci) for i in range (R)) for j in range (col))\n",
    "    degrees_of_freedom = (R - 1) * (col - 1);\n",
    "    ans = 1 - scipy.stats.chi2.cdf(S, degrees_of_freedom)\n",
    "    if ans < THRESHOLD :\n",
    "        return True\n",
    "    else :\n",
    "        return False"
   ]
  },
  {
   "cell_type": "code",
   "execution_count": 28,
   "metadata": {},
   "outputs": [
    {
     "data": {
      "text/plain": [
       "True"
      ]
     },
     "execution_count": 28,
     "metadata": {},
     "output_type": "execute_result"
    }
   ],
   "source": [
    "f(C)"
   ]
  },
  {
   "cell_type": "code",
   "execution_count": 29,
   "metadata": {},
   "outputs": [
    {
     "data": {
      "text/plain": [
       "True"
      ]
     },
     "execution_count": 29,
     "metadata": {},
     "output_type": "execute_result"
    }
   ],
   "source": [
    "f(C - 1)"
   ]
  },
  {
   "cell_type": "code",
   "execution_count": 30,
   "metadata": {},
   "outputs": [
    {
     "name": "stdout",
     "output_type": "stream",
     "text": [
      "we cant assume that gender has no effect on voting preferences\n"
     ]
    }
   ],
   "source": [
    "print('we cant assume that gender has no effect on voting preferences')"
   ]
  },
  {
   "cell_type": "code",
   "execution_count": null,
   "metadata": {},
   "outputs": [],
   "source": []
  }
 ],
 "metadata": {
  "kernelspec": {
   "display_name": "Python 3",
   "language": "python",
   "name": "python3"
  },
  "language_info": {
   "codemirror_mode": {
    "name": "ipython",
    "version": 3
   },
   "file_extension": ".py",
   "mimetype": "text/x-python",
   "name": "python",
   "nbconvert_exporter": "python",
   "pygments_lexer": "ipython3",
   "version": "3.7.5"
  }
 },
 "nbformat": 4,
 "nbformat_minor": 4
}
