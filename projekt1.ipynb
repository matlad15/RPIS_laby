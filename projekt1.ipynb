{
 "cells": [
  {
   "cell_type": "code",
   "execution_count": 1,
   "metadata": {},
   "outputs": [],
   "source": [
    "import math\n",
    "import numpy as np\n",
    "import matplotlib.pyplot as plt\n",
    "import random"
   ]
  },
  {
   "cell_type": "code",
   "execution_count": 2,
   "metadata": {},
   "outputs": [],
   "source": [
    "liczba_dni = 365\n",
    "V = 1 / liczba_dni\n",
    "ilosc_losowan = 1000000\n",
    "dolac = []\n",
    "przelac = []\n",
    "wyn = np.arange(liczba_dni)\n",
    "\n",
    "statystyki = np.loadtxt('us_births_69_88.csv', skiprows=1, delimiter=',', dtype=int)\n",
    "tablica_urodzin = statystyki[:, 2]\n",
    "suma_urodzin = sum(tablica_urodzin)\n",
    "pi = np.array(list(tablica_urodzin[i] / suma_urodzin for i in range(liczba_dni)))"
   ]
  },
  {
   "cell_type": "code",
   "execution_count": 3,
   "metadata": {},
   "outputs": [],
   "source": [
    "def sprawdzenie(ind):\n",
    "    if (pi[ind] < V):\n",
    "        dolac.append(ind)\n",
    "    else:\n",
    "        przelac.append(ind)"
   ]
  },
  {
   "cell_type": "code",
   "execution_count": 4,
   "metadata": {},
   "outputs": [],
   "source": [
    "def kubelki():\n",
    "    for i in range(liczba_dni):\n",
    "        sprawdzenie(i)\n",
    "    while (len(dolac) > 0 and len(przelac) > 0):\n",
    "        ind1 = dolac.pop()\n",
    "        ind2 = przelac.pop()\n",
    "        wyn[ind1] = ind2\n",
    "        pi[ind2] = pi[ind2] - (V - pi[ind1])\n",
    "        sprawdzenie(ind2)"
   ]
  },
  {
   "cell_type": "code",
   "execution_count": 5,
   "metadata": {},
   "outputs": [],
   "source": [
    "kubelki()\n",
    "wylosowane_numery = np.random.randint(0, liczba_dni, ilosc_losowan)\n",
    "losowe_prawd = np.random.uniform(0, V, ilosc_losowan)\n",
    "tab = losowe_prawd < pi[wylosowane_numery]\n",
    "pom = np.take(wyn, wylosowane_numery)\n",
    "daty = np.where(tab, wylosowane_numery, pom)"
   ]
  },
  {
   "cell_type": "code",
   "execution_count": 6,
   "metadata": {},
   "outputs": [],
   "source": [
    "def fun(daty):\n",
    "    rezultat = []\n",
    "    dot_wartosci = set()\n",
    "    for nowa_data in daty:\n",
    "        if nowa_data in dot_wartosci:\n",
    "            rezultat.append(len(dot_wartosci))\n",
    "            dot_wartosci = set()\n",
    "        else:\n",
    "            dot_wartosci.add(nowa_data)\n",
    "    return rezultat"
   ]
  },
  {
   "cell_type": "code",
   "execution_count": 7,
   "metadata": {},
   "outputs": [
    {
     "data": {
      "image/png": "[encoded data removed]",
      "text/plain": [
       "<Figure size 432x288 with 1 Axes>"
      ]
     },
     "metadata": {
      "needs_background": "light"
     },
     "output_type": "display_data"
    }
   ],
   "source": [
    "plt.hist(fun(daty), bins = np.arange(0,100,1))\n",
    "plt.show()"
   ]
  },
  {
   "cell_type": "code",
   "execution_count": null,
   "metadata": {},
   "outputs": [],
   "source": []
  }
 ],
 "metadata": {
  "kernelspec": {
   "display_name": "Python 3",
   "language": "python",
   "name": "python3"
  },
  "language_info": {
   "codemirror_mode": {
    "name": "ipython",
    "version": 3
   },
   "file_extension": ".py",
   "mimetype": "text/x-python",
   "name": "python",
   "nbconvert_exporter": "python",
   "pygments_lexer": "ipython3",
   "version": "3.7.5"
  }
 },
 "nbformat": 4,
 "nbformat_minor": 4
}
